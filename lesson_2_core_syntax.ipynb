{
 "cells": [
  {
   "cell_type": "code",
   "execution_count": 1,
   "id": "d3a53fd5",
   "metadata": {},
   "outputs": [
    {
     "data": {
      "text/html": [
       "<style>td {text-align: left !important;} th {text-align: left !important;} </style>"
      ],
      "text/plain": [
       "<IPython.core.display.HTML object>"
      ]
     },
     "execution_count": 1,
     "metadata": {},
     "output_type": "execute_result"
    }
   ],
   "source": [
    "# NOTE: This is setup code for the slide presentation, please ignore.\n",
    "\n",
    "from IPython.core.display import HTML\n",
    "table_css = 'td {text-align: left !important;} th {text-align: left !important;} '\n",
    "HTML('<style>{}</style>'.format(table_css))"
   ]
  },
  {
   "cell_type": "markdown",
   "id": "416a5668",
   "metadata": {
    "slideshow": {
     "slide_type": "slide"
    }
   },
   "source": [
    "<center><h2>Lesson 2: Core Syntax</h2></center>"
   ]
  },
  {
   "cell_type": "markdown",
   "id": "29ef0c1a",
   "metadata": {
    "slideshow": {
     "slide_type": "slide"
    }
   },
   "source": [
    "<center><h3>Boolean Logic</h3></center>"
   ]
  },
  {
   "cell_type": "markdown",
   "id": "04dff81e",
   "metadata": {
    "slideshow": {
     "slide_type": "slide"
    }
   },
   "source": [
    "<center><img src=\"./illustration_pngs/python_boolean_operation.png\" width=\"100%\" /></center>"
   ]
  },
  {
   "cell_type": "code",
   "execution_count": 25,
   "id": "27f44888",
   "metadata": {
    "slideshow": {
     "slide_type": "slide"
    }
   },
   "outputs": [
    {
     "name": "stdout",
     "output_type": "stream",
     "text": [
      "140715322910784\n",
      "140715322910816\n"
     ]
    }
   ],
   "source": [
    "# Comparison operators and expressions\n",
    "x, y = 10, 20\n",
    "\n",
    "# print(f\"x > y: {x > y}\") # Greater than\n",
    "# print(f\"x < y: {x < y}\") # Less than\n",
    "# print(f\"x >= y: {x >= y}\") # Greater than or equal to\n",
    "# print(f\"x <= y: {x <= y}\") # Less than or equal to\n",
    "# print(f\"x == y: {x == y}\") # Equal to - note double equals is an equality check and single equal is assignment\n",
    "# print(f\"x != y: {x != y}\") # Not equal to\n",
    "\n",
    "n = 10\n",
    "x = 11\n",
    "\n",
    "n is x\n",
    "\n",
    "print(id(n))\n",
    "print(id(x))"
   ]
  },
  {
   "cell_type": "code",
   "execution_count": 35,
   "id": "9e3e06e0",
   "metadata": {
    "slideshow": {
     "slide_type": "slide"
    }
   },
   "outputs": [
    {
     "name": "stdout",
     "output_type": "stream",
     "text": [
      "\"equal\" == \"equal\": True\n",
      "\"equal\" == \"EQUAL\": False\n",
      "\"B\" > \"A\": True\n",
      "\"XYZ\" > \"ABC\": True\n"
     ]
    },
    {
     "data": {
      "text/plain": [
       "['HTML',\n",
       " 'In',\n",
       " 'List',\n",
       " 'Out',\n",
       " '_',\n",
       " '_1',\n",
       " '_10',\n",
       " '_12',\n",
       " '_13',\n",
       " '_14',\n",
       " '_15',\n",
       " '_16',\n",
       " '_17',\n",
       " '_20',\n",
       " '_21',\n",
       " '_22',\n",
       " '_26',\n",
       " '_30',\n",
       " '_31',\n",
       " '_9',\n",
       " '__',\n",
       " '___',\n",
       " '__builtin__',\n",
       " '__builtins__',\n",
       " '__doc__',\n",
       " '__loader__',\n",
       " '__name__',\n",
       " '__package__',\n",
       " '__spec__',\n",
       " '_dh',\n",
       " '_i',\n",
       " '_i1',\n",
       " '_i10',\n",
       " '_i11',\n",
       " '_i12',\n",
       " '_i13',\n",
       " '_i14',\n",
       " '_i15',\n",
       " '_i16',\n",
       " '_i17',\n",
       " '_i18',\n",
       " '_i19',\n",
       " '_i2',\n",
       " '_i20',\n",
       " '_i21',\n",
       " '_i22',\n",
       " '_i23',\n",
       " '_i24',\n",
       " '_i25',\n",
       " '_i26',\n",
       " '_i27',\n",
       " '_i28',\n",
       " '_i29',\n",
       " '_i3',\n",
       " '_i30',\n",
       " '_i31',\n",
       " '_i32',\n",
       " '_i33',\n",
       " '_i34',\n",
       " '_i35',\n",
       " '_i4',\n",
       " '_i5',\n",
       " '_i6',\n",
       " '_i7',\n",
       " '_i8',\n",
       " '_i9',\n",
       " '_ih',\n",
       " '_ii',\n",
       " '_iii',\n",
       " '_oh',\n",
       " 'display',\n",
       " 'exit',\n",
       " 'get_ipython',\n",
       " 'n',\n",
       " 'pretty_print_scope',\n",
       " 'quit',\n",
       " 'table_css',\n",
       " 'x',\n",
       " 'y',\n",
       " 'zip_longest']"
      ]
     },
     "execution_count": 35,
     "metadata": {},
     "output_type": "execute_result"
    }
   ],
   "source": [
    "print(f'\"equal\" == \"equal\": {\"equal\" == \"equal\"}') # Often used to check if strings are equal\n",
    "print(f'\"equal\" == \"EQUAL\": {\"equal\" == \"EQUAL\"}') # Case sensitive\n",
    "\n",
    "print(f'\"B\" > \"A\": {\"B\" > \"A\"}') # Good for comparing single characters\n",
    "print(f'\"XYZ\" > \"ABC\": {\"XYZ\" > \"ABC\"}') # Compares character by character based on index, if any are true it returns true\n",
    "\n",
    "# \"AA\" > \"AB\"\n",
    "# ind(30)\n",
    "dir()"
   ]
  },
  {
   "cell_type": "markdown",
   "id": "01ab1426",
   "metadata": {
    "slideshow": {
     "slide_type": "slide"
    }
   },
   "source": [
    "#### Logical Operators"
   ]
  },
  {
   "cell_type": "code",
   "execution_count": null,
   "id": "62efb42a",
   "metadata": {
    "slideshow": {
     "slide_type": "fragment"
    }
   },
   "outputs": [],
   "source": [
    "# everything needs to be true for it to evaluate to true\n",
    "True and True # == True\n",
    "True and False # == False\n",
    "False and True # == False\n",
    "False and False # == False\n",
    "\n",
    "# everything needs to be false for it to evaluate to false\n",
    "True or True # == True\n",
    "True or False # == True\n",
    "False or True # == True\n",
    "False or False # == False\n",
    "\n",
    "# inverts the bool\n",
    "not True\n",
    "not False"
   ]
  },
  {
   "cell_type": "code",
   "execution_count": 36,
   "id": "81e8b730",
   "metadata": {
    "slideshow": {
     "slide_type": "slide"
    }
   },
   "outputs": [
    {
     "name": "stdout",
     "output_type": "stream",
     "text": [
      "(x < y) and (x > z): False\n",
      "(x < y) or (x > z): True\n",
      "((x < y) or (x > z)) and ((x < y) or (x > z)): True\n"
     ]
    }
   ],
   "source": [
    "x, y, z = 10, 20, 30\n",
    "\n",
    "print(f\"(x < y) and (x > z): {(x < y) and (x > z)}\")\n",
    "print(f\"(x < y) or (x > z): {(x < y) or (x > z)}\")\n",
    "print(f\"((x < y) or (x > z)) and ((x < y) or (x > z)): {((x < y) or (x > z)) and ((x < y) or (x > z))}\")"
   ]
  },
  {
   "cell_type": "markdown",
   "id": "aa01d0c1",
   "metadata": {
    "slideshow": {
     "slide_type": "slide"
    }
   },
   "source": [
    "<center><h3>Conditional Statements</h3></center>"
   ]
  },
  {
   "cell_type": "markdown",
   "id": "865644a7",
   "metadata": {
    "slideshow": {
     "slide_type": "slide"
    }
   },
   "source": [
    "<center><img src=\"./illustration_pngs/python_conditionals.png\" width=\"100%\" /></center>"
   ]
  },
  {
   "cell_type": "code",
   "execution_count": 41,
   "id": "a19b9327",
   "metadata": {
    "slideshow": {
     "slide_type": "slide"
    }
   },
   "outputs": [],
   "source": [
    "a = 11\n",
    "if a == 10:\n",
    "    pass\n",
    "#     print(\"a == 10\")"
   ]
  },
  {
   "cell_type": "code",
   "execution_count": 39,
   "id": "d2ae64b5",
   "metadata": {
    "slideshow": {
     "slide_type": "slide"
    }
   },
   "outputs": [
    {
     "name": "stdout",
     "output_type": "stream",
     "text": [
      "a == 10\n"
     ]
    }
   ],
   "source": [
    "a = 10\n",
    "if a == 10: print(\"a == 10\") # Also valid, only works with one statement after the colon"
   ]
  },
  {
   "cell_type": "code",
   "execution_count": 47,
   "id": "1399d4a1",
   "metadata": {
    "slideshow": {
     "slide_type": "slide"
    }
   },
   "outputs": [
    {
     "name": "stdout",
     "output_type": "stream",
     "text": [
      "a == 10 or a == 20\n"
     ]
    }
   ],
   "source": [
    "a = 20\n",
    "if (a == 10) or (a == 20):\n",
    "    print(\"a == 10 or a == 20\")"
   ]
  },
  {
   "cell_type": "code",
   "execution_count": 50,
   "id": "f15180c5",
   "metadata": {
    "slideshow": {
     "slide_type": "slide"
    }
   },
   "outputs": [
    {
     "name": "stdout",
     "output_type": "stream",
     "text": [
      "b == unknown\n"
     ]
    }
   ],
   "source": [
    "b = \"asd\"\n",
    "if b == 10:\n",
    "    print(\"b == 10\")\n",
    "else:\n",
    "    print(\"b == unknown\") # Will execute when above if is false"
   ]
  },
  {
   "cell_type": "code",
   "execution_count": 53,
   "id": "a34c7955",
   "metadata": {
    "slideshow": {
     "slide_type": "slide"
    }
   },
   "outputs": [
    {
     "name": "stdout",
     "output_type": "stream",
     "text": [
      "c == 20\n"
     ]
    }
   ],
   "source": [
    "c = 20\n",
    "if c == 10:\n",
    "    print(\"c == 10\")\n",
    "elif c == 20:        # There can be any number of elif conditions\n",
    "    print(\"c == 20\")\n",
    "elif c == 30:\n",
    "    print(\"c == 30\")\n",
    "else:\n",
    "    print(\"c == unknown\") # Will execute when all other conditions are false"
   ]
  },
  {
   "cell_type": "markdown",
   "id": "ec0212da",
   "metadata": {
    "slideshow": {
     "slide_type": "slide"
    }
   },
   "source": [
    "#### Ternary Operators"
   ]
  },
  {
   "cell_type": "code",
   "execution_count": 54,
   "id": "1fa5ee59",
   "metadata": {
    "slideshow": {
     "slide_type": "fragment"
    }
   },
   "outputs": [
    {
     "name": "stdout",
     "output_type": "stream",
     "text": [
      "10\n",
      "10\n"
     ]
    }
   ],
   "source": [
    "# In computer science, a ternary operator is an operator that\n",
    "# takes three arguments as input and returns one output.\n",
    "\n",
    "x = 10 if (10 > 5) else 20 # Used for variable assignment\n",
    "print(x)\n",
    "\n",
    "# More compact version of doing this\n",
    "\n",
    "if (10 > 5):\n",
    "    x = 10\n",
    "else:\n",
    "    x = 20\n",
    "print(x)"
   ]
  },
  {
   "cell_type": "code",
   "execution_count": 58,
   "id": "575b0092",
   "metadata": {
    "slideshow": {
     "slide_type": "slide"
    }
   },
   "outputs": [
    {
     "name": "stdout",
     "output_type": "stream",
     "text": [
      "something\n",
      "abc\n"
     ]
    }
   ],
   "source": [
    "# Can also be used to execute functions\n",
    "\n",
    "def abc():\n",
    "    print(\"something\")\n",
    "    print(\"abc\")\n",
    "\n",
    "abc() if (10 > 3) else print(\"3 is smaller!\")"
   ]
  },
  {
   "cell_type": "markdown",
   "id": "035c3e2e",
   "metadata": {
    "slideshow": {
     "slide_type": "slide"
    }
   },
   "source": [
    "#### Nested Conditionals"
   ]
  },
  {
   "cell_type": "code",
   "execution_count": 60,
   "id": "07921885",
   "metadata": {
    "slideshow": {
     "slide_type": "fragment"
    }
   },
   "outputs": [],
   "source": [
    "# Deeply nesting is general considered a bad practice and should be avoid\n",
    "# as it can create confusing, hard to follow code.\n",
    "\n",
    "a = 11\n",
    "b = 20\n",
    "\n",
    "if a == 10:\n",
    "    print(\"a == 10\")\n",
    "    if b == 20:\n",
    "        print(\"b == 20\")"
   ]
  },
  {
   "cell_type": "markdown",
   "id": "940f2292",
   "metadata": {
    "slideshow": {
     "slide_type": "slide"
    }
   },
   "source": [
    "#### Pass statement "
   ]
  },
  {
   "cell_type": "code",
   "execution_count": 61,
   "id": "7044d5a5",
   "metadata": {
    "slideshow": {
     "slide_type": "fragment"
    }
   },
   "outputs": [],
   "source": [
    "a = 10\n",
    "\n",
    "if a == 10:\n",
    "    pass   # Useful for sketching out code who's logic we don't yet know\n"
   ]
  },
  {
   "cell_type": "markdown",
   "id": "d22c93a5",
   "metadata": {
    "slideshow": {
     "slide_type": "slide"
    }
   },
   "source": [
    "#### Match (Switch) Statements"
   ]
  },
  {
   "cell_type": "code",
   "execution_count": 62,
   "id": "d441ac4d",
   "metadata": {
    "slideshow": {
     "slide_type": "fragment"
    }
   },
   "outputs": [
    {
     "ename": "SyntaxError",
     "evalue": "invalid syntax (<ipython-input-62-5e58b2937cb5>, line 5)",
     "output_type": "error",
     "traceback": [
      "\u001b[1;36m  File \u001b[1;32m\"<ipython-input-62-5e58b2937cb5>\"\u001b[1;36m, line \u001b[1;32m5\u001b[0m\n\u001b[1;33m    match language_key:\u001b[0m\n\u001b[1;37m          ^\u001b[0m\n\u001b[1;31mSyntaxError\u001b[0m\u001b[1;31m:\u001b[0m invalid syntax\n"
     ]
    }
   ],
   "source": [
    "# Only available in Python 3.10+\n",
    "# https://www.python.org/shell/\n",
    "\n",
    "language_key = \"EN\"\n",
    "match language_key:\n",
    "    case \"EN\":\n",
    "        print(\"English\")\n",
    "    case \"FR\":\n",
    "        print(\"French\")\n",
    "    case \"PY\":\n",
    "        print(\"Python\")\n",
    "    case _:\n",
    "        print(\"Unknown key.\")\n"
   ]
  },
  {
   "cell_type": "markdown",
   "id": "be6b59e6",
   "metadata": {
    "slideshow": {
     "slide_type": "slide"
    }
   },
   "source": [
    "<center><h3>While Loops</h3></center>"
   ]
  },
  {
   "cell_type": "markdown",
   "id": "a72847ff",
   "metadata": {
    "slideshow": {
     "slide_type": "slide"
    }
   },
   "source": [
    "<center><img src=\"./illustration_pngs/python_while_loop.png\" width=\"100%\" /></center>"
   ]
  },
  {
   "cell_type": "code",
   "execution_count": 63,
   "id": "4b852c7b",
   "metadata": {
    "slideshow": {
     "slide_type": "slide"
    }
   },
   "outputs": [
    {
     "name": "stdout",
     "output_type": "stream",
     "text": [
      "1\n",
      "2\n",
      "3\n",
      "4\n",
      "5\n",
      "6\n",
      "7\n",
      "8\n",
      "9\n",
      "10\n"
     ]
    }
   ],
   "source": [
    "x = 1\n",
    "while x <= 10:\n",
    "    print(x)\n",
    "    x += 1"
   ]
  },
  {
   "cell_type": "code",
   "execution_count": 66,
   "id": "10315746",
   "metadata": {
    "slideshow": {
     "slide_type": "slide"
    }
   },
   "outputs": [
    {
     "name": "stdout",
     "output_type": "stream",
     "text": [
      "Password:asdas\n",
      "asdas\n"
     ]
    }
   ],
   "source": [
    "# while input(\"Password: \") != \"password\":\n",
    "#     print(\"Wrong password!\")\n",
    "# else:\n",
    "#     print(\"Right password!\")\n",
    "\n",
    "x = input(\"Password:\")\n",
    "print(x)"
   ]
  },
  {
   "cell_type": "code",
   "execution_count": 68,
   "id": "571c7b45",
   "metadata": {
    "slideshow": {
     "slide_type": "slide"
    }
   },
   "outputs": [
    {
     "name": "stdout",
     "output_type": "stream",
     "text": [
      "Password: password\n",
      "Right password!\n"
     ]
    }
   ],
   "source": [
    "attempt_number = 0\n",
    "while input(\"Password: \") != \"password\":\n",
    "    print(\"Wrong password!\")\n",
    "    attempt_number += 1\n",
    "    if attempt_number == 3:\n",
    "        print(\"Too many attempts!\")\n",
    "        break                             # Using the break keyword will end the loop\n",
    "else:\n",
    "    print(\"Right password!\")"
   ]
  },
  {
   "cell_type": "markdown",
   "id": "afeb8af0",
   "metadata": {
    "slideshow": {
     "slide_type": "slide"
    }
   },
   "source": [
    "<center><h3>For Loops</h3></center>"
   ]
  },
  {
   "cell_type": "markdown",
   "id": "0ea84380",
   "metadata": {
    "slideshow": {
     "slide_type": "slide"
    }
   },
   "source": [
    "<center><img src=\"./illustration_pngs/python_for_loop.png\" width=\"100%\" /></center>"
   ]
  },
  {
   "cell_type": "code",
   "execution_count": 69,
   "id": "b1ac695f",
   "metadata": {
    "slideshow": {
     "slide_type": "slide"
    }
   },
   "outputs": [
    {
     "name": "stdout",
     "output_type": "stream",
     "text": [
      "A\n",
      "E\n",
      "I\n",
      "O\n",
      "U\n",
      "Y\n"
     ]
    }
   ],
   "source": [
    "vowels = [\"A\", \"E\", \"I\", \"O\", \"U\", \"Y\"]\n",
    "for v in vowels:\n",
    "    print(v)"
   ]
  },
  {
   "cell_type": "code",
   "execution_count": 70,
   "id": "c0275471",
   "metadata": {
    "slideshow": {
     "slide_type": "slide"
    }
   },
   "outputs": [
    {
     "name": "stdout",
     "output_type": "stream",
     "text": [
      "A\n",
      "E\n",
      "I\n"
     ]
    }
   ],
   "source": [
    "for vowel in vowels:\n",
    "    if vowel == \"O\":\n",
    "        break          # Stops the loop\n",
    "    print(vowel)"
   ]
  },
  {
   "cell_type": "code",
   "execution_count": 72,
   "id": "6fc8dbed",
   "metadata": {
    "slideshow": {
     "slide_type": "slide"
    }
   },
   "outputs": [
    {
     "name": "stdout",
     "output_type": "stream",
     "text": [
      "A\n",
      "E\n",
      "I\n",
      "U\n",
      "Y\n"
     ]
    }
   ],
   "source": [
    "for vowel in vowels:\n",
    "    if vowel == \"O\":\n",
    "        continue     # Skips ahead to the next iteration of the loop\n",
    "    print(vowel)"
   ]
  },
  {
   "cell_type": "code",
   "execution_count": 75,
   "id": "afac3709",
   "metadata": {
    "slideshow": {
     "slide_type": "slide"
    }
   },
   "outputs": [
    {
     "name": "stdout",
     "output_type": "stream",
     "text": [
      "index: 0, vowel:A\n",
      "index: 1, vowel:E\n",
      "index: 2, vowel:I\n",
      "index: 3, vowel:O\n",
      "index: 4, vowel:U\n",
      "index: 5, vowel:Y\n"
     ]
    }
   ],
   "source": [
    "list(enumerate(vowels))\n",
    "for index, vowel in enumerate(vowels):\n",
    "    print(f\"index: {index}, vowel:{vowel}\")"
   ]
  },
  {
   "cell_type": "code",
   "execution_count": 78,
   "id": "6e56ae1c",
   "metadata": {
    "slideshow": {
     "slide_type": "slide"
    }
   },
   "outputs": [
    {
     "name": "stdout",
     "output_type": "stream",
     "text": [
      "0\n",
      "1\n",
      "2\n",
      "3\n",
      "4\n",
      "5\n",
      "6\n",
      "7\n",
      "8\n",
      "9\n"
     ]
    }
   ],
   "source": [
    "list(range(10))\n",
    "for count in range(10):\n",
    "    print(count)"
   ]
  },
  {
   "cell_type": "code",
   "execution_count": 79,
   "id": "aaa0fec3",
   "metadata": {
    "slideshow": {
     "slide_type": "slide"
    }
   },
   "outputs": [
    {
     "name": "stdout",
     "output_type": "stream",
     "text": [
      "TO\n",
      "Toronto\n",
      "OTT\n",
      "Ottawa\n",
      "MTL\n",
      "Montreal\n"
     ]
    }
   ],
   "source": [
    "cities = {'TO': 'Toronto', 'OTT': 'Ottawa', 'MTL': 'Montreal'}\n",
    "for key in cities:  # iterating over a dictionary will give it's key values\n",
    "    print(key)\n",
    "    print(cities[key])"
   ]
  },
  {
   "cell_type": "code",
   "execution_count": 81,
   "id": "c5f86bf5",
   "metadata": {
    "slideshow": {
     "slide_type": "slide"
    }
   },
   "outputs": [
    {
     "name": "stdout",
     "output_type": "stream",
     "text": [
      "[('TO', 'Toronto'), ('OTT', 'Ottawa'), ('MTL', 'Montreal')]\n",
      "key: TO, value: Toronto\n",
      "key: OTT, value: Ottawa\n",
      "key: MTL, value: Montreal\n"
     ]
    }
   ],
   "source": [
    "print(list(cities.items()))\n",
    "for key, value in cities.items():\n",
    "    print(f\"key: {key}, value: {value}\")"
   ]
  },
  {
   "cell_type": "code",
   "execution_count": 82,
   "id": "4a488c43",
   "metadata": {
    "slideshow": {
     "slide_type": "slide"
    }
   },
   "outputs": [
    {
     "name": "stdout",
     "output_type": "stream",
     "text": [
      "A B C\n",
      "1 3 5\n",
      "2 4 6\n"
     ]
    }
   ],
   "source": [
    "matrix_2D = [['A', 'B', 'C'], \n",
    "             [1,   3,   5], \n",
    "             [2,   4,   6]]\n",
    "\n",
    "for row in matrix_2D:\n",
    "    for index, value in enumerate(row):\n",
    "        print(value, end='\\n' if index == len(row) - 1 else ' ')"
   ]
  },
  {
   "cell_type": "markdown",
   "id": "7d22beea",
   "metadata": {
    "slideshow": {
     "slide_type": "slide"
    }
   },
   "source": [
    "<center><h3>Functions</h3></center>"
   ]
  },
  {
   "cell_type": "markdown",
   "id": "ef587007",
   "metadata": {
    "slideshow": {
     "slide_type": "slide"
    }
   },
   "source": [
    "<center><img src=\"./illustration_pngs/python_function.png\" width=\"100%\" /></center>"
   ]
  },
  {
   "cell_type": "code",
   "execution_count": null,
   "id": "790f77c6",
   "metadata": {
    "slideshow": {
     "slide_type": "slide"
    }
   },
   "outputs": [],
   "source": [
    "def say_hello():\n",
    "    pass\n",
    "\n",
    "say_hello()"
   ]
  },
  {
   "cell_type": "code",
   "execution_count": null,
   "id": "e5c33aef",
   "metadata": {
    "slideshow": {
     "slide_type": "slide"
    }
   },
   "outputs": [],
   "source": [
    "def say_hello(name: str):\n",
    "    print(f\"Hello {name}.\")\n",
    "    \n",
    "say_hello('Peter')"
   ]
  },
  {
   "cell_type": "code",
   "execution_count": null,
   "id": "e95e983b",
   "metadata": {
    "slideshow": {
     "slide_type": "slide"
    }
   },
   "outputs": [],
   "source": [
    "def say_hello(name: str = 'Peter'):\n",
    "    print(f\"Hello {name}.\")\n",
    "    \n",
    "say_hello()"
   ]
  },
  {
   "cell_type": "code",
   "execution_count": null,
   "id": "862819a6",
   "metadata": {
    "slideshow": {
     "slide_type": "slide"
    }
   },
   "outputs": [],
   "source": [
    "def say_hello(first_name:str, last_name: str):\n",
    "    print(f\"Hello {first_name} {last_name}.\")\n",
    "    \n",
    "say_hello(\"Peter\", \"Hamilton\")\n",
    "say_hello(last_name=\"Hamilton\", first_name=\"Peter\")"
   ]
  },
  {
   "cell_type": "code",
   "execution_count": null,
   "id": "a03ef694",
   "metadata": {
    "slideshow": {
     "slide_type": "slide"
    }
   },
   "outputs": [],
   "source": [
    "def say_hello(name: str):\n",
    "    '''\n",
    "    Say hello to someone.\n",
    "    '''\n",
    "    print(f\"Hello {name}.\")\n",
    "\n",
    "say_hello(\"HDSB\") # Place your carret at the end of say_hello, hold shift and press tab"
   ]
  },
  {
   "cell_type": "code",
   "execution_count": null,
   "id": "902db450",
   "metadata": {
    "scrolled": true,
    "slideshow": {
     "slide_type": "slide"
    }
   },
   "outputs": [],
   "source": [
    "def sum_two_ints(num_1: int, num_2: int) -> int:\n",
    "    return num_1 + num_2\n",
    "\n",
    "sum_two_ints(2, 2)"
   ]
  },
  {
   "cell_type": "code",
   "execution_count": null,
   "id": "441efe75",
   "metadata": {
    "slideshow": {
     "slide_type": "slide"
    }
   },
   "outputs": [],
   "source": [
    "from typing import Tuple\n",
    "def return_two_numbers() -> Tuple:\n",
    "        return 1, 2\n",
    "\n",
    "a, b = return_two_numbers() \n",
    "\n",
    "print(a)\n",
    "print(b)"
   ]
  },
  {
   "cell_type": "code",
   "execution_count": null,
   "id": "d72c4fc0",
   "metadata": {
    "slideshow": {
     "slide_type": "slide"
    }
   },
   "outputs": [],
   "source": [
    "def sum_ints(*ints: int):\n",
    "    total = 0\n",
    "    for i in ints:\n",
    "        total += i\n",
    "    return total\n",
    "    \n",
    "print(sum_ints(2,2,2))\n",
    "print(sum_ints(2,2,2,2,2,2))"
   ]
  },
  {
   "cell_type": "code",
   "execution_count": null,
   "id": "eee00d5b",
   "metadata": {
    "slideshow": {
     "slide_type": "slide"
    }
   },
   "outputs": [],
   "source": [
    "def configure_data(**kwargs: int):\n",
    "    if 'rows' in kwargs:\n",
    "        print(f\"Rows set to: {kwargs['rows']}\")\n",
    "    if 'cols' in kwargs:\n",
    "        print(f\"Cols set to: {kwargs['cols']}\")\n",
    "    if 'timestamp' in kwargs:\n",
    "        print(f\"Timestamp set to: {kwargs['timestamp']}\")\n",
    "        \n",
    "configure_data(rows=100)\n",
    "configure_data(timestamp=20221905)\n",
    "configure_data(rows=100, timestamp=20221905, cols=10)"
   ]
  },
  {
   "cell_type": "code",
   "execution_count": null,
   "id": "d043bcba",
   "metadata": {
    "slideshow": {
     "slide_type": "slide"
    }
   },
   "outputs": [],
   "source": [
    "from typing import List\n",
    "\n",
    "def configure_data(data_type:str, *rows: List[int], name: str=\"untitled\", **kwargs: int):\n",
    "    print(f\"Name: {name}.{data_type}\\n-\")\n",
    "    if 'col_names' in kwargs:\n",
    "        print(\", \".join(kwargs['col_names']))\n",
    "    for row in rows:\n",
    "        print(\", \".join([str(x) for x in row]))    \n",
    "\n",
    "configure_data(\"csv\", [1,2,3], [6,7,8], name=\"test\", col_names=['a','b','c'])"
   ]
  },
  {
   "cell_type": "code",
   "execution_count": null,
   "id": "2b3d2550",
   "metadata": {
    "slideshow": {
     "slide_type": "slide"
    }
   },
   "outputs": [],
   "source": [
    "def double_amount(amount: float):\n",
    "    return amount * 2\n",
    "\n",
    "d = double_amount  # Functions can be assigned to variables\n",
    "d(100)"
   ]
  },
  {
   "cell_type": "markdown",
   "id": "bc9d3607",
   "metadata": {
    "slideshow": {
     "slide_type": "slide"
    }
   },
   "source": [
    "#### Recursive functions"
   ]
  },
  {
   "cell_type": "code",
   "execution_count": null,
   "id": "d905321c",
   "metadata": {
    "slideshow": {
     "slide_type": "fragment"
    }
   },
   "outputs": [],
   "source": [
    "def double_until_over_100(value: float):\n",
    "    if value > 100: # Base case\n",
    "        print(f\"value over 100: {value}\")\n",
    "    else: # Recursion case\n",
    "        print(value)\n",
    "        value *= 2\n",
    "        double_until_over_100(value)\n",
    "\n",
    "double_until_over_100(8)"
   ]
  },
  {
   "cell_type": "markdown",
   "id": "0fd74ab1",
   "metadata": {
    "slideshow": {
     "slide_type": "slide"
    }
   },
   "source": [
    "#### Callback functions"
   ]
  },
  {
   "cell_type": "code",
   "execution_count": null,
   "id": "6e418299",
   "metadata": {
    "slideshow": {
     "slide_type": "fragment"
    }
   },
   "outputs": [],
   "source": [
    "from typing import Callable\n",
    "\n",
    "def callback():\n",
    "    print(\"All finished.\")\n",
    "    \n",
    "def update(completion_callback: Callable):\n",
    "    print(\"Updating something...\")\n",
    "    completion_callback()\n",
    "\n",
    "update(callback)"
   ]
  },
  {
   "cell_type": "markdown",
   "id": "717d7156",
   "metadata": {
    "slideshow": {
     "slide_type": "slide"
    }
   },
   "source": [
    "<center><h3>Lambdas</h3></center>"
   ]
  },
  {
   "cell_type": "markdown",
   "id": "8d5d5bde",
   "metadata": {
    "slideshow": {
     "slide_type": "slide"
    }
   },
   "source": [
    "<center><img src=\"./illustration_pngs/python_lambda.png\" width=\"100%\" /></center>"
   ]
  },
  {
   "cell_type": "code",
   "execution_count": null,
   "id": "98daa3bd",
   "metadata": {
    "slideshow": {
     "slide_type": "slide"
    }
   },
   "outputs": [],
   "source": [
    "# Also known as anonymous functions\n",
    "\n",
    "add_ten = lambda x: x + 10\n",
    "print(add_ten(10))\n",
    "print(type(add_ten)) # Lambda is just syntatic sugar for declaring simple functions"
   ]
  },
  {
   "cell_type": "code",
   "execution_count": null,
   "id": "2a3f0540",
   "metadata": {
    "slideshow": {
     "slide_type": "fragment"
    }
   },
   "outputs": [],
   "source": [
    "(lambda x: x + 10)(10)"
   ]
  },
  {
   "cell_type": "code",
   "execution_count": null,
   "id": "73f94086",
   "metadata": {
    "slideshow": {
     "slide_type": "slide"
    }
   },
   "outputs": [],
   "source": [
    "from typing import Callable\n",
    "\n",
    "add_ten: Callable[[int], int] = lambda x: x + 10\n",
    "add_ten(10)"
   ]
  },
  {
   "cell_type": "code",
   "execution_count": null,
   "id": "6a940e26",
   "metadata": {
    "slideshow": {
     "slide_type": "fragment"
    }
   },
   "outputs": [],
   "source": [
    "# Multiple arguments\n",
    "\n",
    "add_together = lambda x, y: x + y\n",
    "add_together(5, 5)"
   ]
  },
  {
   "cell_type": "code",
   "execution_count": null,
   "id": "da0c34c8",
   "metadata": {
    "slideshow": {
     "slide_type": "slide"
    }
   },
   "outputs": [],
   "source": [
    "from typing import Callable\n",
    "\n",
    "def say_hello(name: str, transform_func: Callable[[str],str]):\n",
    "    transformed_str = transform_func(f\"Hello {name} 👋\")\n",
    "    print(transformed_str)\n",
    "    \n",
    "say_hello(\"Peter\", lambda s: s.upper())\n",
    "say_hello(\"Peter\", lambda s: s.lower())\n",
    "say_hello(\"Peter\", lambda s: str.join(\"\", [c + \".\" for c in s]))\n",
    "say_hello(\"Peter\", lambda s: s.replace(\" \", \"_\"))"
   ]
  },
  {
   "cell_type": "markdown",
   "id": "44b3bdeb",
   "metadata": {
    "slideshow": {
     "slide_type": "slide"
    }
   },
   "source": [
    "<center><h3>Scope</h3></center>"
   ]
  },
  {
   "cell_type": "markdown",
   "id": "64b1cb48",
   "metadata": {
    "slideshow": {
     "slide_type": "slide"
    }
   },
   "source": [
    "<center><img src=\"./illustration_pngs/python_scope.png\" width=\"100%\" /></center>"
   ]
  },
  {
   "cell_type": "markdown",
   "id": "282e9ac1",
   "metadata": {
    "slideshow": {
     "slide_type": "slide"
    }
   },
   "source": [
    "<!-- # Locals are whatever is available in the current context\n",
    "\n",
    "# Built-ins always available\n",
    "\n",
    "# Global variables are always available, but can only be modified out\n",
    "# of the global scope by using the global keyword -->\n",
    "\n",
    "- Locals are whatever is available in the current context\n",
    "- Globals are anything declared in the global context, i.e. outside of any functions or classes\n",
    "- Global variables are always available, but can only be modified out of the global scope by using the global keyword\n",
    "- Enclosed variables are available to anything they enclose, but can only be modified in an enclosed context by using the nonlocal keyword\n",
    "-Built-ins are always available everywhere"
   ]
  },
  {
   "cell_type": "code",
   "execution_count": 2,
   "id": "93b882f3",
   "metadata": {
    "slideshow": {
     "slide_type": "skip"
    }
   },
   "outputs": [],
   "source": [
    "# NOTE: Make sure you restart the kernel before running this cell\n",
    "from typing import List\n",
    "from IPython.core.display import display, HTML\n",
    "from itertools import zip_longest\n",
    "\n",
    "def pretty_print_scope(local_keys: List[str], global_keys: List[str]):\n",
    "    CLUTTER = ['In', 'Out', 'get_ipython', 'exit', 'quit', 'List', 'display', 'HTML', 'zip_longest', 'pretty_print_scope']\n",
    "    filtered_globals = list(filter(lambda key: key[0] != '_' and key not in CLUTTER, global_keys))\n",
    "    filtered_locals = list(filter(lambda key: key[0] != '_' and key not in CLUTTER, local_keys))\n",
    "    html_globals = [f'<tr><td>{g}</td>' for g in filtered_globals]\n",
    "    html_locals = [f'<td>{l}</td></tr>' for l in filtered_locals]\n",
    "    html_combined = [str(h[0]) + str(h[1]) for h in zip_longest(html_globals, html_locals, fillvalue='<td></td>')]\n",
    "    html_str = \"\".join(html_combined)\n",
    "    display(HTML(f'<table><tr><th>Globals</th><th>Locals</th></tr>{html_str}</table>'))"
   ]
  },
  {
   "cell_type": "code",
   "execution_count": 3,
   "id": "9ff6e97a",
   "metadata": {
    "slideshow": {
     "slide_type": "slide"
    }
   },
   "outputs": [
    {
     "data": {
      "text/html": [
       "<table><tr><th>Globals</th><th>Locals</th></tr><tr><td>table_css</td><td>table_css</td></tr><tr><td>variable_a</td><td>variable_a</td></tr></table>"
      ],
      "text/plain": [
       "<IPython.core.display.HTML object>"
      ]
     },
     "metadata": {},
     "output_type": "display_data"
    }
   ],
   "source": [
    "variable_a = 123\n",
    "pretty_print_scope(locals().keys(), globals().keys())\n",
    "\n",
    "del(variable_a) # Just to clean up the print out"
   ]
  },
  {
   "cell_type": "code",
   "execution_count": 6,
   "id": "1a301147",
   "metadata": {
    "slideshow": {
     "slide_type": "slide"
    }
   },
   "outputs": [
    {
     "name": "stdout",
     "output_type": "stream",
     "text": [
      "789\n"
     ]
    },
    {
     "data": {
      "text/html": [
       "<table><tr><th>Globals</th><th>Locals</th></tr><tr><td>table_css</td><td>variable_a</td></tr><tr><td>variable_a</td><td>variable_b</td></tr><tr><td>some_function</td><td></td></table>"
      ],
      "text/plain": [
       "<IPython.core.display.HTML object>"
      ]
     },
     "metadata": {},
     "output_type": "display_data"
    },
    {
     "name": "stdout",
     "output_type": "stream",
     "text": [
      "123\n"
     ]
    }
   ],
   "source": [
    "variable_a = 123\n",
    "\n",
    "def some_function():\n",
    "#     global variable_a\n",
    "    variable_a = 789\n",
    "    print(variable_a)\n",
    "    variable_b = 456\n",
    "    pretty_print_scope(locals().keys(), globals().keys())\n",
    "\n",
    "some_function()\n",
    "print(variable_a)\n",
    "\n",
    "del([some_function, variable_a])"
   ]
  },
  {
   "cell_type": "code",
   "execution_count": 7,
   "id": "005b82e5",
   "metadata": {
    "slideshow": {
     "slide_type": "slide"
    }
   },
   "outputs": [
    {
     "name": "stdout",
     "output_type": "stream",
     "text": [
      "101112\n"
     ]
    },
    {
     "data": {
      "text/html": [
       "<table><tr><th>Globals</th><th>Locals</th></tr><tr><td>table_css</td><td>variable_c</td></tr><tr><td>variable_a</td><td>variable_b</td></tr><tr><td>some_function</td><td></td></table>"
      ],
      "text/plain": [
       "<IPython.core.display.HTML object>"
      ]
     },
     "metadata": {},
     "output_type": "display_data"
    },
    {
     "name": "stdout",
     "output_type": "stream",
     "text": [
      "101112\n"
     ]
    }
   ],
   "source": [
    "variable_a = 123\n",
    "\n",
    "def some_function():   \n",
    "    variable_b = 456\n",
    "    \n",
    "    def inner_function():\n",
    "        nonlocal variable_b\n",
    "        variable_b = 101112\n",
    "        print(variable_b)\n",
    "        \n",
    "        variable_c = 789\n",
    "        pretty_print_scope(locals().keys(), globals().keys())\n",
    "    \n",
    "    inner_function()\n",
    "    print(variable_b)\n",
    "\n",
    "some_function()\n",
    "\n",
    "del([some_function, variable_a])"
   ]
  },
  {
   "cell_type": "markdown",
   "id": "ac19afcc",
   "metadata": {
    "slideshow": {
     "slide_type": "slide"
    }
   },
   "source": [
    "<center><h3>Modules & Packages</h3></center>"
   ]
  },
  {
   "cell_type": "markdown",
   "id": "7fad9443",
   "metadata": {
    "slideshow": {
     "slide_type": "slide"
    }
   },
   "source": [
    "<center><img src=\"./illustration_pngs/python_import.png\" width=\"100%\" /></center>"
   ]
  },
  {
   "cell_type": "markdown",
   "id": "b0ee7704",
   "metadata": {
    "slideshow": {
     "slide_type": "slide"
    }
   },
   "source": [
    "<center><img src=\"./illustration_pngs/python_example_module_a.png\" width=\"50%\" /></center>"
   ]
  },
  {
   "cell_type": "code",
   "execution_count": null,
   "id": "f68083aa",
   "metadata": {
    "slideshow": {
     "slide_type": "slide"
    }
   },
   "outputs": [],
   "source": [
    "import example_module_a # Note that the module only executes the first time it is imported\n",
    "\n",
    "example_module_a.some_function()\n",
    "someClassInstance = example_module_a.SomeClass()\n",
    "print(example_module_a.city_dict)"
   ]
  },
  {
   "cell_type": "code",
   "execution_count": null,
   "id": "ca6a8f0c",
   "metadata": {},
   "outputs": [],
   "source": [
    "import example_module_a as example\n",
    "\n",
    "example.some_function()"
   ]
  },
  {
   "cell_type": "code",
   "execution_count": null,
   "id": "aa59b8c5",
   "metadata": {},
   "outputs": [],
   "source": [
    "from example_module_a import city_dict, some_function\n",
    "\n",
    "some_function()\n",
    "print(city_dict)"
   ]
  },
  {
   "cell_type": "code",
   "execution_count": null,
   "id": "74b2adcd",
   "metadata": {},
   "outputs": [],
   "source": [
    "from example_module_a import *\n",
    "\n",
    "someClassInstance = SomeClass()"
   ]
  },
  {
   "cell_type": "markdown",
   "id": "8a07b446",
   "metadata": {
    "slideshow": {
     "slide_type": "slide"
    }
   },
   "source": [
    "#### Packages are organized collections of modules"
   ]
  },
  {
   "cell_type": "markdown",
   "id": "635dda00",
   "metadata": {
    "slideshow": {
     "slide_type": "fragment"
    }
   },
   "source": [
    "<center><img src=\"./illustration_pngs/python_package_example.png\" width=\"75%\" /></center>"
   ]
  },
  {
   "cell_type": "code",
   "execution_count": null,
   "id": "0213bbe3",
   "metadata": {
    "slideshow": {
     "slide_type": "slide"
    }
   },
   "outputs": [],
   "source": [
    "from example_package import module_a, module_b\n",
    "module_a.some_function()\n",
    "module_b.some_function()"
   ]
  }
 ],
 "metadata": {
  "celltoolbar": "Slideshow",
  "kernelspec": {
   "display_name": "Python 3 (ipykernel)",
   "language": "python",
   "name": "python3"
  },
  "language_info": {
   "codemirror_mode": {
    "name": "ipython",
    "version": 3
   },
   "file_extension": ".py",
   "mimetype": "text/x-python",
   "name": "python",
   "nbconvert_exporter": "python",
   "pygments_lexer": "ipython3",
   "version": "3.8.5"
  }
 },
 "nbformat": 4,
 "nbformat_minor": 5
}
